{
 "cells": [
  {
   "cell_type": "code",
   "execution_count": 1,
   "metadata": {
    "collapsed": true
   },
   "outputs": [],
   "source": [
    "# Instructions:\n",
    "# You are a Data Scientist working for a consulting firm. \n",
    "# One of your colleagues from the suditing department\n",
    "# has asked you to help them assess the financial statement\n",
    "# of organization X.\n",
    "\n",
    "# You have been supplied with two lists of data: monthly\n",
    "# revenue and monthly expenses for the financial year in question\n",
    "# Your task is to calculate the following finanacial metrics.\n",
    "\n",
    "# Profit each month\n",
    "# Profit after tax for each month (tax rate is 30%)\n",
    "# Profit margin for each month - equals to profit after tax divided by revenue.\n",
    "# good months - where the profit after tax was greater then the mean for the year.\n",
    "# bad months - where profit after tax was less than the mean.\n",
    "# the best month (max)\n",
    "# the worst month (min)"
   ]
  },
  {
   "cell_type": "code",
   "execution_count": 2,
   "metadata": {
    "collapsed": true
   },
   "outputs": [],
   "source": [
    "# All results need to be presented as lists.\n",
    "\n",
    "# Results for dollar values need to be calculated with $0.01 precision,\n",
    "# but need to be presented in Units of $1,000 (i.e. 1k) with no decimal point.\n",
    "\n",
    "# Results for the profit margin ratio need to be presented in \n",
    "# units of percent with no decimal points.\n",
    "\n",
    "# Note: Your colleague has warned you that it is okay for tax \n",
    "# for any given month to be negative (in accounting terms,\n",
    "# negative tax translates into a deffered tax asset)"
   ]
  },
  {
   "cell_type": "code",
   "execution_count": 3,
   "metadata": {
    "collapsed": true
   },
   "outputs": [],
   "source": [
    "# getting the data set: superdatascience.com/python\n",
    "# homework challenge: homework data set\n",
    "# get two lists"
   ]
  },
  {
   "cell_type": "code",
   "execution_count": 5,
   "metadata": {
    "collapsed": true
   },
   "outputs": [],
   "source": [
    "#Data \n",
    "revenue = [14574.49, 7606.46, 8611.41, 9175.41, 8058.65, 8105.44, 11496.28, 9766.09, 10305.32, 14379.96, 10713.97, 15433.50]\n",
    "expenses = [12051.82, 5695.07, 12319.20, 12089.72, 8658.57, 840.20, 3285.73, 5821.12, 6976.93, 16618.61, 10054.37, 3803.96]"
   ]
  },
  {
   "cell_type": "code",
   "execution_count": 6,
   "metadata": {},
   "outputs": [],
   "source": [
    "import math\n",
    "import numpy as np\n",
    "profit = []\n",
    "for month in range(len(revenue)):\n",
    "    monthly_profit = revenue[month] - expenses[month]\n",
    "    monthly_profit_round = round(monthly_profit, 2)\n",
    "    profit.append(monthly_profit_round)\n"
   ]
  },
  {
   "cell_type": "code",
   "execution_count": 15,
   "metadata": {},
   "outputs": [],
   "source": [
    "profit_after_tax = []\n",
    "profit_after_tax_thousands = []\n",
    "for month in range(12):\n",
    "    monthly_profit_after_tax = profit[month]*.7\n",
    "    monthly_profit_after_tax_round = round(monthly_profit_after_tax, 2)\n",
    "    profit_after_tax.append(monthly_profit_after_tax_round)\n",
    "    profit_after_tax_thousands.append('$'+str(int(monthly_profit_after_tax_round / 1000))+'k')"
   ]
  },
  {
   "cell_type": "code",
   "execution_count": 16,
   "metadata": {
    "collapsed": true
   },
   "outputs": [],
   "source": [
    "profit_margin = []\n",
    "for month in range(12):\n",
    "    margin = profit_after_tax[month]/revenue[month]\n",
    "    margin_round = round(margin*100, 0)\n",
    "    profit_margin.append(str(int(margin_round))+'%')"
   ]
  },
  {
   "cell_type": "markdown",
   "metadata": {},
   "source": [
    "---"
   ]
  },
  {
   "cell_type": "code",
   "execution_count": 17,
   "metadata": {
    "collapsed": true
   },
   "outputs": [],
   "source": [
    "mean_profit_after_tax = np.mean(profit_after_tax)\n",
    "good_months = []\n",
    "bad_months = []\n",
    "for month in range(12):\n",
    "    if profit_after_tax[month] > mean_profit_after_tax:\n",
    "        good_months.append('profit: $' + str(int(round((profit_after_tax[month]/1000),0))) + 'k month: ' + str(month+1))\n",
    "    else:\n",
    "        bad_months.append('profit: $' + str(int(round((profit_after_tax[month]/1000),0))) + 'k month: ' + str(month+1))\n",
    "best_month = max(good_months)\n",
    "worst_month = min(bad_months)"
   ]
  },
  {
   "cell_type": "markdown",
   "metadata": {},
   "source": [
    "---"
   ]
  },
  {
   "cell_type": "code",
   "execution_count": 18,
   "metadata": {
    "collapsed": true
   },
   "outputs": [],
   "source": [
    "months = ['january', 'february', 'march', 'april', 'may', 'june', 'july', 'august', 'september', 'october', 'november', 'december']"
   ]
  },
  {
   "cell_type": "code",
   "execution_count": 19,
   "metadata": {},
   "outputs": [],
   "source": [
    "yearly_review = []\n",
    "for month in range(0, len(months)):\n",
    "    yearly_review.append([months[month],profit_after_tax_thousands[month], profit_margin[month]])"
   ]
  },
  {
   "cell_type": "code",
   "execution_count": 20,
   "metadata": {},
   "outputs": [
    {
     "data": {
      "text/plain": [
       "[['january', '$1k', '12%'],\n",
       " ['february', '$1k', '18%'],\n",
       " ['march', '$-2k', '-30%'],\n",
       " ['april', '$-2k', '-22%'],\n",
       " ['may', '$0k', '-5%'],\n",
       " ['june', '$5k', '63%'],\n",
       " ['july', '$5k', '50%'],\n",
       " ['august', '$2k', '28%'],\n",
       " ['september', '$2k', '23%'],\n",
       " ['october', '$-1k', '-11%'],\n",
       " ['november', '$0k', '4%'],\n",
       " ['december', '$8k', '53%']]"
      ]
     },
     "execution_count": 20,
     "metadata": {},
     "output_type": "execute_result"
    }
   ],
   "source": [
    "list(yearly_review)"
   ]
  },
  {
   "cell_type": "code",
   "execution_count": 171,
   "metadata": {
    "scrolled": false
   },
   "outputs": [
    {
     "data": {
      "text/plain": [
       "['profit: $2k month: 1',\n",
       " 'profit: $5k month: 6',\n",
       " 'profit: $6k month: 7',\n",
       " 'profit: $3k month: 8',\n",
       " 'profit: $2k month: 9',\n",
       " 'profit: $8k month: 12']"
      ]
     },
     "execution_count": 171,
     "metadata": {},
     "output_type": "execute_result"
    }
   ],
   "source": [
    "good_months"
   ]
  },
  {
   "cell_type": "code",
   "execution_count": 172,
   "metadata": {},
   "outputs": [
    {
     "data": {
      "text/plain": [
       "['profit: $1k month: 2',\n",
       " 'profit: $-3k month: 3',\n",
       " 'profit: $-2k month: 4',\n",
       " 'profit: $0k month: 5',\n",
       " 'profit: $-2k month: 10',\n",
       " 'profit: $0k month: 11']"
      ]
     },
     "execution_count": 172,
     "metadata": {},
     "output_type": "execute_result"
    }
   ],
   "source": [
    "bad_months"
   ]
  },
  {
   "cell_type": "code",
   "execution_count": 173,
   "metadata": {},
   "outputs": [
    {
     "data": {
      "text/plain": [
       "'profit: $8k month: 12'"
      ]
     },
     "execution_count": 173,
     "metadata": {},
     "output_type": "execute_result"
    }
   ],
   "source": [
    "best_month"
   ]
  },
  {
   "cell_type": "code",
   "execution_count": 174,
   "metadata": {},
   "outputs": [
    {
     "data": {
      "text/plain": [
       "'profit: $-2k month: 10'"
      ]
     },
     "execution_count": 174,
     "metadata": {},
     "output_type": "execute_result"
    }
   ],
   "source": [
    "worst_month"
   ]
  },
  {
   "cell_type": "code",
   "execution_count": 24,
   "metadata": {},
   "outputs": [],
   "source": [
    "list_test = [1,'a',2,'b',3,'c',4,'d',5,'e',6,'f']"
   ]
  },
  {
   "cell_type": "code",
   "execution_count": 27,
   "metadata": {},
   "outputs": [
    {
     "data": {
      "text/plain": [
       "['a', 'b', 'c', 'd', 'e', 'f']"
      ]
     },
     "execution_count": 27,
     "metadata": {},
     "output_type": "execute_result"
    }
   ],
   "source": [
    "list_test[-11::2]"
   ]
  },
  {
   "cell_type": "code",
   "execution_count": null,
   "metadata": {
    "collapsed": true
   },
   "outputs": [],
   "source": []
  }
 ],
 "metadata": {
  "kernelspec": {
   "display_name": "Python 3",
   "language": "python",
   "name": "python3"
  },
  "language_info": {
   "codemirror_mode": {
    "name": "ipython",
    "version": 3
   },
   "file_extension": ".py",
   "mimetype": "text/x-python",
   "name": "python",
   "nbconvert_exporter": "python",
   "pygments_lexer": "ipython3",
   "version": "3.6.1"
  }
 },
 "nbformat": 4,
 "nbformat_minor": 2
}
