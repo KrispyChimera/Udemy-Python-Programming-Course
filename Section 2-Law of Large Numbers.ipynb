{
 "cells": [
  {
   "cell_type": "code",
   "execution_count": 1,
   "metadata": {
    "collapsed": true
   },
   "outputs": [],
   "source": [
    "# average across a sample will converge to the expected value as n goes to infinity."
   ]
  },
  {
   "cell_type": "code",
   "execution_count": 2,
   "metadata": {
    "collapsed": true
   },
   "outputs": [],
   "source": [
    "# normal distribution 34.1% then 13.6% then 2.1% the 0.1%"
   ]
  },
  {
   "cell_type": "code",
   "execution_count": 3,
   "metadata": {
    "collapsed": true
   },
   "outputs": [],
   "source": [
    "# testing the law of large numbers for N randomly distributed numbers with mean = 0, stdev = 1:\n",
    "# create a python script that will count how many of these numbers fall between -1 and 1 and divide by the totl quantity of N"
   ]
  },
  {
   "cell_type": "code",
   "execution_count": 4,
   "metadata": {
    "collapsed": true
   },
   "outputs": [],
   "source": [
    "# you many know that E(X) = 68.2%"
   ]
  },
  {
   "cell_type": "code",
   "execution_count": 5,
   "metadata": {
    "collapsed": true
   },
   "outputs": [],
   "source": [
    "# Check the mean(Xn) -> E(X) as you rerun your script while increasing N."
   ]
  },
  {
   "cell_type": "code",
   "execution_count": 2,
   "metadata": {
    "collapsed": true
   },
   "outputs": [],
   "source": [
    "import numpy as np\n",
    "from numpy.random import randn\n",
    "import math"
   ]
  },
  {
   "cell_type": "code",
   "execution_count": 52,
   "metadata": {
    "collapsed": true
   },
   "outputs": [],
   "source": []
  },
  {
   "cell_type": "code",
   "execution_count": 4,
   "metadata": {
    "scrolled": true
   },
   "outputs": [
    {
     "name": "stdout",
     "output_type": "stream",
     "text": [
      "[[10, 0.9], [100, 0.83], [1000, 0.776], [10000, 0.7667], [10000000, 0.6834184]]\n"
     ]
    }
   ],
   "source": [
    "nums = []\n",
    "sigma1 = 0\n",
    "sample_size = []\n",
    "Ns = [10, 100, 1000, 10000, 10000000]\n",
    "j = 0\n",
    "\n",
    "while j < len(Ns):\n",
    "    N = 0\n",
    "    for i in range(Ns[j]):\n",
    "        random_number = randn()\n",
    "        nums.append(random_number)\n",
    "        N = N + 1\n",
    "        if random_number >= -1 and random_number <= 1:\n",
    "            sigma1 = sigma1 + 1  \n",
    "    j = j + 1        \n",
    "    sample_size.append([N, (sigma1/N)])\n",
    "    \n",
    "    \n",
    "\n",
    "print(sample_size)\n"
   ]
  },
  {
   "cell_type": "code",
   "execution_count": 82,
   "metadata": {},
   "outputs": [
    {
     "name": "stdout",
     "output_type": "stream",
     "text": [
      "1000\n"
     ]
    }
   ],
   "source": [
    "G = [1000]\n",
    "m = 0\n",
    "for i in range(G[0]):\n",
    "    m = m + 1\n",
    "print(m)\n"
   ]
  },
  {
   "cell_type": "code",
   "execution_count": null,
   "metadata": {},
   "outputs": [],
   "source": []
  },
  {
   "cell_type": "code",
   "execution_count": null,
   "metadata": {},
   "outputs": [],
   "source": []
  },
  {
   "cell_type": "code",
   "execution_count": null,
   "metadata": {
    "collapsed": true
   },
   "outputs": [],
   "source": []
  }
 ],
 "metadata": {
  "kernelspec": {
   "display_name": "Python 3",
   "language": "python",
   "name": "python3"
  },
  "language_info": {
   "codemirror_mode": {
    "name": "ipython",
    "version": 3
   },
   "file_extension": ".py",
   "mimetype": "text/x-python",
   "name": "python",
   "nbconvert_exporter": "python",
   "pygments_lexer": "ipython3",
   "version": "3.6.1"
  }
 },
 "nbformat": 4,
 "nbformat_minor": 2
}
